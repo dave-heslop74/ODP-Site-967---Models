{
 "cells": [
  {
   "cell_type": "markdown",
   "id": "ce937a74",
   "metadata": {},
   "source": [
    "### D. Heslop, U. Amarathunga and E. J. Rohling (2023). North African Plio-Pleistocene monsoon runoff and its impacts on the Mediterranean Sea. Paleoceanography and Paleoclimatology (submitted).\n",
    "\n",
    "#### Jupyter notebook to plot box model sensitivities and recreate Figures 2 and 8.\n",
    "\n",
    "#### Plots are made based on box model output.\n",
    "Example files are available in the GitHub repository, or you can run the box model using ```box_model_sensitivities.ipynb``` to produce your own files and plot them using this notebook."
   ]
  },
  {
   "cell_type": "markdown",
   "id": "f38de286",
   "metadata": {},
   "source": [
    "#### Import libraries"
   ]
  },
  {
   "cell_type": "code",
   "execution_count": null,
   "id": "620e5001",
   "metadata": {},
   "outputs": [],
   "source": [
    "import shutil\n",
    "import numpy as np\n",
    "import matplotlib.pyplot as plt"
   ]
  },
  {
   "cell_type": "markdown",
   "id": "b89832e2",
   "metadata": {},
   "source": [
    "#### Test if LaTeX is installed and can be used in plots (labels look nicer in LaTeX)"
   ]
  },
  {
   "cell_type": "code",
   "execution_count": null,
   "id": "51b91eb8",
   "metadata": {},
   "outputs": [],
   "source": [
    "plt.rcParams['text.usetex']= True if shutil.which('latex') else False"
   ]
  },
  {
   "cell_type": "markdown",
   "id": "e4c2dbe4",
   "metadata": {},
   "source": [
    "#### Load results files:\n",
    "```XRSL``` = $\\partial\\delta^{18}\\mathrm{O_{pf}}$/$\\partial\\mathrm{RSL_{Gib}}$\n",
    "\n",
    "```XFWF``` = $\\partial\\delta^{18}\\mathrm{O_{pf}}$/$\\partial\\Delta\\mathrm{FWF}$\n",
    "\n",
    "```XT``` = $\\partial\\delta^{18}\\mathrm{O_{pf}}$/$\\partial\\Delta\\mathrm{T}$\n",
    "\n",
    "```XMON``` = $\\partial\\delta^{18}\\mathrm{O_{pf}}$/$\\partial\\delta^{18}\\mathrm{O_{mon}}$"
   ]
  },
  {
   "cell_type": "code",
   "execution_count": null,
   "id": "d8375d76",
   "metadata": {},
   "outputs": [],
   "source": [
    "XRSL = np.loadtxt('XRSL.txt')\n",
    "XFWF = np.loadtxt('XFWF.txt')\n",
    "XT = np.loadtxt('XT.txt')\n",
    "XMON = np.loadtxt('XMON.txt')"
   ]
  },
  {
   "cell_type": "markdown",
   "id": "77a782b9",
   "metadata": {},
   "source": [
    "### Recreate Figure 2\n",
    "\n",
    "(a) Sensitivity of $\\delta^{18}\\mathrm{O}_\\mathrm{pf}$ to $\\delta^{18}\\mathrm{O}_\\mathrm{mon}$ as a function of RSL$_\\mathrm{Gib}$\n",
    "\n",
    "(b) Sensitivity of $\\delta^{18}\\mathrm{O}_\\mathrm{pf}$ to $\\Delta$FWF as a function of RSL$_\\mathrm{Gib}$\n",
    "\n",
    "(c) Sensitivity of $\\delta^{18}\\mathrm{O}_\\mathrm{pf}$ to $\\Delta$T as a function of RSL$_\\mathrm{Gib}$"
   ]
  },
  {
   "cell_type": "code",
   "execution_count": null,
   "id": "f009c28e",
   "metadata": {},
   "outputs": [],
   "source": [
    "#Setup figure \n",
    "figsize = (10,4.5)\n",
    "fontsize = 14\n",
    "fig, (ax1,ax2,ax3) = plt.subplots(1,3,figsize=figsize,sharex=True)\n",
    "\n",
    "#Plot (a) \n",
    "X = XRSL #work with RSLGib sensitivity\n",
    "ax1.fill_between(X[:,0],X[:,1]-X[:,2],X[:,1]+X[:,2],color=[0.6,0.6,0.6])\n",
    "ax1.plot(X[:,0],X[:,1],'k')\n",
    "ax1.set_xlim([-40,40])\n",
    "ax1.minorticks_on()\n",
    "ax1.tick_params(axis='both', which='major', labelsize=fontsize)\n",
    "ax1.set_xlabel(r\"$\\mathrm{RSL_{Gib}~[m]}$\", fontsize=fontsize)\n",
    "ax1.set_ylabel(r\"$\\partial\\delta^{18}\\mathrm{O_{pf}}$/$\\partial\\mathrm{RSL_{Gib}}~[^\\circ / _{\\circ\\circ}~\\mathrm{m}^{-1}]$\",fontsize=fontsize)\n",
    "ax1.text(-37,-0.018,r\"$\\mathrm(a)$\",fontsize=fontsize)\n",
    "\n",
    "#Plot (b) \n",
    "X = XFWF #work with monsoon FWF sensitivity\n",
    "ax2.fill_between(X[:,0],X[:,1]-X[:,2],X[:,1]+X[:,2],color=[0.6,0.6,0.6])\n",
    "ax2.plot(X[:,0],X[:,1],'k')\n",
    "ax2.set_xlim([-40,40])\n",
    "ax2.minorticks_on()\n",
    "ax2.tick_params(axis='both', which='major', labelsize=fontsize)\n",
    "ax2.set_xlabel(r\"$\\mathrm{RSL_{Gib}~[m]}$\", fontsize=fontsize)\n",
    "ax2.set_ylabel(r\"$\\partial\\delta^{18}\\mathrm{O_{pf}}$/$\\partial\\Delta\\mathrm{FWF}~[^\\circ / _{\\circ\\circ}]$\",fontsize=fontsize)\n",
    "ax2.text(-37,-0.244,r\"$\\mathrm(b)$\",fontsize=fontsize)\n",
    "\n",
    "#Plot (c) \n",
    "X = XT #work with temperature concentration sensitivity\n",
    "ax3.fill_between(X[:,0],X[:,1]-X[:,2],X[:,1]+X[:,2],color=[0.6,0.6,0.6])\n",
    "ax3.plot(X[:,0],X[:,1],'k')\n",
    "ax3.set_xlim([-40,40])\n",
    "ax3.minorticks_on()\n",
    "ax3.tick_params(axis='both', which='major', labelsize=fontsize)\n",
    "ax3.set_xlabel(r\"$\\mathrm{RSL_{Gib}~[m]}$\", fontsize=fontsize)\n",
    "ax3.set_ylabel(r\"$\\partial\\delta^{18}\\mathrm{O_{pf}}$/$\\partial\\Delta\\mathrm{T}~[^\\circ / _{\\circ\\circ}~^\\circ\\mathrm{C}^{-1}]$\",fontsize=fontsize)\n",
    "ax3.text(-37,-0.201,r\"$\\mathrm(c)$\",fontsize=fontsize);\n",
    "\n",
    "#Uncomment next two lines to save figure\n",
    "#plt.tight_layout()\n",
    "#plt.savefig('Figure2.pdf')"
   ]
  },
  {
   "cell_type": "markdown",
   "id": "d65e9009",
   "metadata": {},
   "source": [
    "### Recreate Figure 8\n",
    "\n",
    "Sensitivity of $\\delta^{18}\\mathrm{O}_\\mathrm{pf}$ to $\\delta^{18}\\mathrm{O}_\\mathrm{mon}$ as a function of RSL$_\\mathrm{Gib}$"
   ]
  },
  {
   "cell_type": "code",
   "execution_count": null,
   "id": "a5c098af",
   "metadata": {},
   "outputs": [],
   "source": [
    "#Load data to be plotted\n",
    "X = XMON\n",
    "\n",
    "#Setup figure\n",
    "figsize = (6,6)\n",
    "fontsize = 14\n",
    "fig, ax1 = plt.subplots(figsize=figsize)\n",
    "\n",
    "#Make plot\n",
    "ax1.fill_between(X[:,0],X[:,1]-X[:,2],X[:,1]+X[:,2],color=[0.6,0.6,0.6])\n",
    "ax1.plot(X[:,0],X[:,1],'k')\n",
    "ax1.set_xlim([-50,40])\n",
    "ax1.minorticks_on()\n",
    "ax1.tick_params(axis='both', which='major', labelsize=fontsize)\n",
    "ax1.set_xlabel(r\"$\\mathrm{RSL_{Gib}~[m]}$\", fontsize=fontsize)\n",
    "ax1.set_ylabel(r\"$\\partial\\delta^{18}\\mathrm{O_{pf}}$/$\\partial\\delta^{18}\\mathrm{O_{mon}}~[-]$\",fontsize=fontsize);\n",
    "\n",
    "#Uncomment next two lines to save figure\n",
    "#plt.tight_layout()\n",
    "#plt.savefig('Figure8.pdf')"
   ]
  }
 ],
 "metadata": {
  "kernelspec": {
   "display_name": "Python 3 (ipykernel)",
   "language": "python",
   "name": "python3"
  },
  "language_info": {
   "codemirror_mode": {
    "name": "ipython",
    "version": 3
   },
   "file_extension": ".py",
   "mimetype": "text/x-python",
   "name": "python",
   "nbconvert_exporter": "python",
   "pygments_lexer": "ipython3",
   "version": "3.9.13"
  }
 },
 "nbformat": 4,
 "nbformat_minor": 5
}
