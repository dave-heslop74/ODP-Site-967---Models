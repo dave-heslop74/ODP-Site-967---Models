{
 "cells": [
  {
   "cell_type": "markdown",
   "metadata": {},
   "source": [
    "### D. Heslop, U. Amarathunga and E. J. Rohling (2023). North African Plio-Pleistocene monsoon runoff and its impacts on the Mediterranean Sea. Paleoceanography and Paleoclimatology (submitted).\n",
    "\n",
    "#### Jupyter notebook to estimate box model sensitivities and in Figures 2 and 8. \n",
    "\n",
    "#### This notebook performs the calculation and the results can be plotted in ```Sensitivity plotter - GitHub.ipynb```\n",
    "\n",
    "The Mediterranean box model is written in Julia (https://julialang.org/) and requires the model files:\n",
    "1. ```rsl.forcing.jl```\n",
    "2. ```rsl.utils.jl```\n",
    "3. ```rsl.fixvar.jl```\n",
    "4. ```rsl.constant.jl```\n",
    "5. ```rsl.rndvar.jl```\n",
    "6. ```rsl.estimate.jl```\n",
    "\n",
    "which are available as part of this GitHub repository."
   ]
  },
  {
   "cell_type": "markdown",
   "metadata": {},
   "source": [
    "#### Read in Julia packages\n",
    "These can be installed using the package manager (https://docs.julialang.org/en/v1/stdlib/Pkg/)"
   ]
  },
  {
   "cell_type": "code",
   "execution_count": null,
   "metadata": {},
   "outputs": [],
   "source": [
    "using Statistics\n",
    "using Random\n",
    "using DelimitedFiles"
   ]
  },
  {
   "cell_type": "markdown",
   "metadata": {},
   "source": [
    "#### Read in box model code as collection of files"
   ]
  },
  {
   "cell_type": "code",
   "execution_count": null,
   "metadata": {},
   "outputs": [],
   "source": [
    "include(\"./rsl.forcing.jl\");\n",
    "include(\"./rsl.utils.jl\");\n",
    "include(\"./rsl.fixvar.jl\");\n",
    "include(\"./rsl.constant.jl\");\n",
    "include(\"./rsl.rndvar.jl\");\n",
    "include(\"./rsl.estimate.jl\");"
   ]
  },
  {
   "cell_type": "markdown",
   "metadata": {},
   "source": [
    "#### Seed the random number generator for repeatability"
   ]
  },
  {
   "cell_type": "code",
   "execution_count": null,
   "metadata": {},
   "outputs": [],
   "source": [
    "Random.seed!(1234);"
   ]
  },
  {
   "cell_type": "markdown",
   "metadata": {},
   "source": [
    "#### Generate box model constants (see ```rsl.constant.jl``` for definitions)"
   ]
  },
  {
   "cell_type": "code",
   "execution_count": null,
   "metadata": {},
   "outputs": [],
   "source": [
    "C, ρa, AM, p = constants();"
   ]
  },
  {
   "cell_type": "markdown",
   "metadata": {},
   "source": [
    "#### Generate box model fixed values (see ```rsl.fixvar.jl``` for definitions)"
   ]
  },
  {
   "cell_type": "code",
   "execution_count": null,
   "metadata": {},
   "outputs": [],
   "source": [
    "A_p, SA_p, δA_p, P_p, X_p, R_p, δR_p, B_p, δB_p, M_p, δM_p, sinc_p = fixvar();"
   ]
  },
  {
   "cell_type": "markdown",
   "metadata": {},
   "source": [
    "#### Set default box model parameters (which may change later)"
   ]
  },
  {
   "cell_type": "code",
   "execution_count": null,
   "metadata": {},
   "outputs": [],
   "source": [
    "∇T_s = 5.0; #summer SST sensitivity to RSL_Gib\n",
    "∇T_w = 3.5; #winter SST sensitivity to RSL_Gib\n",
    "sl = 0; #RSL_Gib\n",
    "T = 19.0; #Average SST\n",
    "zmodel0 = 150.0; #model depth when monsoon is inactive\n",
    "zmul0 = 30.0; #maximum thickness of monsoon upper layer\n",
    "Δzmodel = -50.0; #change in model depth when monsoon is active"
   ]
  },
  {
   "cell_type": "markdown",
   "metadata": {},
   "source": [
    "### Set fixed model parameters"
   ]
  },
  {
   "cell_type": "code",
   "execution_count": null,
   "metadata": {},
   "outputs": [],
   "source": [
    "Ntrials = 500; #number of trials to assess uncertainties\n",
    "Nyrs = 500; #number of years to run model over\n",
    "Δt_s,Δt_m,Δt_w = 4/12, 2/12, 6/12; #duration of summer, monsoon, and winter periods\n",
    "Mf_s,Mf_w = 0.0, 0.0; #No monsoon forcing in summer and winter\n",
    "annual_forcing = true; #change random forcing each year\n",
    "null_T = true; #use prescribed SST forcing\n",
    "spinup = true; #start from a default state"
   ]
  },
  {
   "cell_type": "markdown",
   "metadata": {},
   "source": [
    "#### Estimate sensitivity WRT $\\delta^{18}$O composition of the monsoon FWF (i.e., $\\partial\\delta^{18}\\mathrm{O_{pf}}$/$\\partial\\delta^{18}\\mathrm{O_{mon}}$)"
   ]
  },
  {
   "cell_type": "code",
   "execution_count": null,
   "metadata": {},
   "outputs": [],
   "source": [
    "δM_p0 = LinRange(-8,-12,11); #range of FWF d18O compositions to test\n",
    "Mf_m = 4; #Set Delta FWF as 4\n",
    "ΔT_m = 0; # No temperature concentration effect\n",
    "sl0 = LinRange(-40,50,20) #array of RSL_Gib to consider   \n",
    "pd = zeros(20,Ntrials) #initialize sensitivity output array\n",
    "\n",
    "for j in 1:length(sl0) #loop through RSL_Gib values\n",
    "    global sl = sl0[j] #Current RSL_Gib value\n",
    "    global δcalcite_out = zeros(11,Ntrials) #output array for d18O of calcite\n",
    "        for i in 1:length(δM_p0) #loop through monsoon compositions\n",
    "        Random.seed!(1234); #reset seed to track individual trials (needed for later regression step)\n",
    "        global δM_p = δM_p0[i]; #current monsoon d18O value\n",
    "        global zmodel = zmodel0+Δzmodel; #adjust model depth\n",
    "        global Δzmul = -3.509.*ΔT_m; #adjustment to monsoon layer depth\n",
    "        global zmul = zmul0+Δzmul; #adjust monsoon layer depth\n",
    "        δsml, Ssml, δssth, Sssth, δmul, Smul, δmll, Smll, δmsth, Smsth, δwml, Swml, T_w, T_s, T_m, δcalcite_w, δcalcite_s, δcalcite_m = estimate_years(Ntrials,Nyrs,annual_forcing); #sample model\n",
    "        δcalcite_out[i,:] = δcalcite_m #store model output\n",
    "    end\n",
    "    \n",
    "    for i in 1:Ntrials\n",
    "        pd[j,i] = utils_linfit(δM_p0,δcalcite_out[:,i])[2] #assess sensitivity for each trial (gradient of first-order polynomial)\n",
    "    end\n",
    "end\n",
    "\n",
    "pd_out = zeros(20,2)\n",
    "for i in 1:20\n",
    "    pd_out[i,1]=mean(pd[i,:]) #mean sensitivity for each RSL_Gib\n",
    "    pd_out[i,2]=std(pd[i,:]) #standard error of sensitivity for each RSL_Gib\n",
    "end\n",
    "\n",
    "#Uncomment next two lines to save the output file\n",
    "output = cat(-sl0,pd_out,dims=2)\n",
    "writedlm(\"XMON.txt\", output)"
   ]
  },
  {
   "cell_type": "markdown",
   "metadata": {},
   "source": [
    "#### Estimate sensitivity WRT $\\Delta$FWF (i.e., $\\partial\\delta^{18}\\mathrm{O_{pf}}$/$\\partial\\Delta\\mathrm{FWF}$)"
   ]
  },
  {
   "cell_type": "code",
   "execution_count": null,
   "metadata": {},
   "outputs": [],
   "source": [
    "δM_p = -10; #set FWF d18O composition\n",
    "Mf_m0 = LinRange(1,3,11); #range of DeltaFWF to test\n",
    "ΔT_m = 0; #No temperature concentration effect\n",
    "sl0 = LinRange(-40,50,20) #array of RSL_Gib to consider      \n",
    "pd = zeros(20,Ntrials) #initialize sensitivity output array\n",
    "for j in 1:length(sl0) #loop through RSL_Gib values\n",
    "    global sl = sl0[j] #Current RSL_Gib value\n",
    "    global δcalcite_out = zeros(11,Ntrials) #output array for d18O of calcite\n",
    "        for i in 1:length(Mf_m0) #loop through DeltaFWF values\n",
    "        Random.seed!(1234); #reset seed to track individual trials (needed for later regression step)\n",
    "        global Mf_m = Mf_m0[i]; #current DeltaFWF value\n",
    "        global zmodel = zmodel0+Δzmodel; #adjust model depth\n",
    "        global Δzmul = -3.509.*ΔT_m; #adjustment to monsoon layer depth\n",
    "        global zmul = zmul0+Δzmul; #adjust monsoon layer depth\n",
    "        δsml, Ssml, δssth, Sssth, δmul, Smul, δmll, Smll, δmsth, Smsth, δwml, Swml, T_w, T_s, T_m, δcalcite_w, δcalcite_s, δcalcite_m = estimate_years(Ntrials,Nyrs,annual_forcing); #sample model\n",
    "        δcalcite_out[i,:] = δcalcite_m #store model output\n",
    "    end\n",
    "    \n",
    "    for i in 1:Ntrials\n",
    "        pd[j,i] = utils_linfit(Mf_m0,δcalcite_out[:,i])[2] #assess sensitivity for each trial (gradient of first-order polynomial)\n",
    "    end\n",
    "end\n",
    "\n",
    "pd_out = zeros(20,2)\n",
    "for i in 1:20\n",
    "    pd_out[i,1]=mean(pd[i,:]) #mean sensitivity for each RSL_Gib\n",
    "    pd_out[i,2]=std(pd[i,:]) #standard error of sensitivity for each RSL_Gib\n",
    "end\n",
    "\n",
    "#Uncomment next two lines to save the output file\n",
    "output = cat(-sl0,pd_out,dims=2)\n",
    "writedlm(\"XFWF.txt\", output)"
   ]
  },
  {
   "cell_type": "markdown",
   "metadata": {},
   "source": [
    "#### Estimate sensitivity WRT $\\Delta$T (i.e., $\\partial\\delta^{18}\\mathrm{O_{pf}}$/$\\partial\\Delta\\mathrm{T}$)"
   ]
  },
  {
   "cell_type": "code",
   "execution_count": null,
   "metadata": {},
   "outputs": [],
   "source": [
    "δM_p = -10; #set FWF d18O composition\n",
    "Mf_m = 0; #set DeltaFWF to zero\n",
    "ΔT_m0 = LinRange(0,3,11); #range of DeltaT to test\n",
    "sl0 = LinRange(-40,50,20)  #array of RSL_Gib to consider   \n",
    "pd = zeros(20,Ntrials) #initialize sensitivity output array\n",
    "for j in 1:length(sl0) #loop through RSL_Gib values\n",
    "    global sl = sl0[j] #Current RSL_Gib value\n",
    "    global δcalcite_out = zeros(11,Ntrials) #output array for d18O of calcite\n",
    "        for i in 1:length(ΔT_m0) #loop through DeltaT values\n",
    "        Random.seed!(1234); #reset seed to track individual trials (needed for later regression step)\n",
    "        global ΔT_m = ΔT_m0[i]; #current DeltaT value\n",
    "        global zmodel = zmodel0+Δzmodel; #adjust model depth\n",
    "        global Δzmul = -3.509.*ΔT_m; #adjustment to monsoon layer depth\n",
    "        global zmul = zmul0+Δzmul; #adjust monsoon layer depth\n",
    "        δsml, Ssml, δssth, Sssth, δmul, Smul, δmll, Smll, δmsth, Smsth, δwml, Swml, T_w, T_s, T_m, δcalcite_w, δcalcite_s, δcalcite_m = estimate_years(Ntrials,Nyrs,annual_forcing); #sample model\n",
    "        δcalcite_out[i,:] = δcalcite_m #store model output\n",
    "    end\n",
    "    \n",
    "    for i in 1:Ntrials\n",
    "        pd[j,i] = utils_linfit(ΔT_m0,δcalcite_out[:,i])[2]\n",
    "    end\n",
    "end\n",
    "\n",
    "pd_out = zeros(20,2)\n",
    "for i in 1:20\n",
    "    pd_out[i,1]=mean(pd[i,:]) #mean sensitivity for each RSL_Gib\n",
    "    pd_out[i,2]=std(pd[i,:]) #standard error of sensitivity for each RSL_Gib\n",
    "end\n",
    "\n",
    "#Uncomment next two lines to save the output file\n",
    "output = cat(-sl0,pd_out,dims=2)\n",
    "writedlm(\"XT.txt\", output)"
   ]
  },
  {
   "cell_type": "markdown",
   "metadata": {},
   "source": [
    "#### Estimate sensitivity WRT $\\mathrm{RSL_{Gib}}$ (i.e., $\\partial\\delta^{18}\\mathrm{O_{pf}}$/$\\partial\\mathrm{RSL_{Gib}}$)"
   ]
  },
  {
   "cell_type": "code",
   "execution_count": null,
   "metadata": {},
   "outputs": [],
   "source": [
    "Mf_m = 0; #set DeltaFWF to zero\n",
    "sl0 = LinRange(-40,50,20) #array of RSL_Gib to consider \n",
    "ΔT_m = 0; #No temperature concentration effect\n",
    "Δt_s,Δt_m,Δt_w = 6/12, 0/12, 6/12; #switch off monsoon\n",
    "\n",
    "global δcalcite_out = zeros(20,Ntrials) #output array for d18O of calcite\n",
    "\n",
    "for i in 1:length(sl0) #loop through RSL_Gib values\n",
    "    Random.seed!(1234); #reset seed to track individual trials (needed for later regression step)\n",
    "    global sl = sl0[i]; #current RSL_Gib value\n",
    "    global zmodel = zmodel0; #model depth\n",
    "    δsml, Ssml, δssth, Sssth, δmul, Smul, δmll, Smll, δmsth, Smsth, δwml, Swml, T_w, T_s, T_m, δcalcite_w, δcalcite_s, δcalcite_m = estimate_years(Ntrials,Nyrs,annual_forcing); #sample model\n",
    "    δcalcite_out[i,:] = δcalcite_s #store model output\n",
    "end\n",
    "\n",
    "pd = zeros(20,Ntrials)\n",
    "for i in 1:Ntrials\n",
    "    pp = utils_quadfit(sl0,δcalcite_out[:,i]) #fit quadratic (see Rohling et al. 2014)\n",
    "    pd[:,i] = pp[2].+2.0.*pp[3].*sl0 #derivative of quadratic\n",
    "end\n",
    "\n",
    "pd_out = zeros(20,2)\n",
    "for i in 1:20\n",
    "    pd_out[i,1]=mean(pd[i,:]) #mean sensitivity for each RSL_Gib\n",
    "    pd_out[i,2]=std(pd[i,:]) #standard error of sensitivity for each RSL_Gib\n",
    "end\n",
    "\n",
    "#Uncomment next two lines to save the output file\n",
    "output = cat(-sl0,-pd_out,dims=2)\n",
    "writedlm(\"XRSL.txt\", output)"
   ]
  }
 ],
 "metadata": {
  "kernelspec": {
   "display_name": "Julia 1.0.5",
   "language": "julia",
   "name": "julia-1.0"
  },
  "language_info": {
   "file_extension": ".jl",
   "mimetype": "application/julia",
   "name": "julia",
   "version": "1.0.5"
  }
 },
 "nbformat": 4,
 "nbformat_minor": 2
}
